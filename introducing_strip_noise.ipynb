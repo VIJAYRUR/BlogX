{
  "nbformat": 4,
  "nbformat_minor": 0,
  "metadata": {
    "colab": {
      "provenance": [],
      "authorship_tag": "ABX9TyPhk/nPNiN9sdUvW5qWO4C6",
      "include_colab_link": true
    },
    "kernelspec": {
      "name": "python3",
      "display_name": "Python 3"
    },
    "language_info": {
      "name": "python"
    }
  },
  "cells": [
    {
      "cell_type": "markdown",
      "metadata": {
        "id": "view-in-github",
        "colab_type": "text"
      },
      "source": [
        "<a href=\"https://colab.research.google.com/github/VIJAYRUR/BlogX/blob/master/introducing_strip_noise.ipynb\" target=\"_parent\"><img src=\"https://colab.research.google.com/assets/colab-badge.svg\" alt=\"Open In Colab\"/></a>"
      ]
    },
    {
      "cell_type": "code",
      "execution_count": 2,
      "metadata": {
        "colab": {
          "base_uri": "https://localhost:8080/",
          "height": 127
        },
        "id": "Zydl2chiaPnv",
        "outputId": "b2c690fe-57d0-4fa9-ef67-9b576793ad47"
      },
      "outputs": [
        {
          "output_type": "stream",
          "name": "stdout",
          "text": [
            "APPROACH 1\n"
          ]
        },
        {
          "output_type": "execute_result",
          "data": {
            "text/plain": [
              "'\\nimport os\\nfrom PIL import Image\\nimport numpy as np\\n\\n# Define the input and output folders\\ninput_folder = \"part_ver_1\"\\noutput_folder = \"noisy_part_1\"\\n\\n# Create the output folder if it doesn\\'t exist\\nif not os.path.exists(output_folder):\\n    os.makedirs(output_folder)\\n\\n# Define the percentage of images with different numbers of stripes\\none_stripe_percent = 60\\ntwo_stripes_percent = 30\\nmore_than_two_stripes_percent = 10\\n\\n# Loop through all images in the input folder\\nfor file_name in os.listdir(input_folder):\\n    # Load the image and convert it to a numpy array\\n    img_path = os.path.join(input_folder, file_name)\\n    img = Image.open(img_path)\\n    img_array = np.array(img)\\n\\n    # Determine the number of stripes to add\\n    rand_num = np.random.randint(1, 101)  # generate a random number between 1 and 100\\n    if rand_num <= one_stripe_percent:\\n        num_stripes = 1\\n    elif rand_num <= one_stripe_percent + two_stripes_percent:\\n        num_stripes = 2\\n    else:\\n        num_stripes = np.random.randint(3, 6)  # randomly choose between 3 and 5 stripes to add\\n\\n    # Add stripe noise to the image array\\n    for i in range(num_stripes):\\n        stripe_width = np.random.randint(1, 6)  # choose a random width for the stripe\\n        stripe_noise = np.random.randint(0, 256, (img_array.shape[0], stripe_width, 3))  # generate random noise with the same width as the image\\n        if i == 0:\\n            stripe_index = np.random.randint(0, img_array.shape[1]-stripe_width)  # choose a random column index to apply the noise to for the first stripe\\n        else:\\n            stripe_index = np.random.choice([x for x in range(img_array.shape[1]-stripe_width) if x not in range(prev_stripe_index, prev_stripe_index+stripe_width)])  # choose a random column index for subsequent stripes that does not overlap with the previous stripe\\n        img_array[:, stripe_index:stripe_index+stripe_width, :] = stripe_noise  # add the noise to the current column range\\n        prev_stripe_index = stripe_index  # store the current stripe index for use in the next iteration\\n\\n    # Convert the numpy array back to an image and save it to the output folder\\n    noisy_img = Image.fromarray(np.uint8(img_array))\\n    noisy_img_path = os.path.join(output_folder, file_name)\\n    noisy_img.save(noisy_img_path)\\n\\n  '"
            ],
            "application/vnd.google.colaboratory.intrinsic+json": {
              "type": "string"
            }
          },
          "metadata": {},
          "execution_count": 2
        }
      ],
      "source": [
        "print('APPROACH 1')\n",
        "\n",
        "\"\"\"\n",
        "import os\n",
        "from PIL import Image\n",
        "import numpy as np\n",
        "\n",
        "# Define the input and output folders\n",
        "input_folder = \"part_ver_1\"\n",
        "output_folder = \"noisy_part_1\"\n",
        "\n",
        "# Create the output folder if it doesn't exist\n",
        "if not os.path.exists(output_folder):\n",
        "    os.makedirs(output_folder)\n",
        "\n",
        "# Define the percentage of images with different numbers of stripes\n",
        "one_stripe_percent = 60\n",
        "two_stripes_percent = 30\n",
        "more_than_two_stripes_percent = 10\n",
        "\n",
        "# Loop through all images in the input folder\n",
        "for file_name in os.listdir(input_folder):\n",
        "    # Load the image and convert it to a numpy array\n",
        "    img_path = os.path.join(input_folder, file_name)\n",
        "    img = Image.open(img_path)\n",
        "    img_array = np.array(img)\n",
        "\n",
        "    # Determine the number of stripes to add\n",
        "    rand_num = np.random.randint(1, 101)  # generate a random number between 1 and 100\n",
        "    if rand_num <= one_stripe_percent:\n",
        "        num_stripes = 1\n",
        "    elif rand_num <= one_stripe_percent + two_stripes_percent:\n",
        "        num_stripes = 2\n",
        "    else:\n",
        "        num_stripes = np.random.randint(3, 6)  # randomly choose between 3 and 5 stripes to add\n",
        "\n",
        "    # Add stripe noise to the image array\n",
        "    for i in range(num_stripes):\n",
        "        stripe_width = np.random.randint(1, 6)  # choose a random width for the stripe\n",
        "        stripe_noise = np.random.randint(0, 256, (img_array.shape[0], stripe_width, 3))  # generate random noise with the same width as the image\n",
        "        if i == 0:\n",
        "            stripe_index = np.random.randint(0, img_array.shape[1]-stripe_width)  # choose a random column index to apply the noise to for the first stripe\n",
        "        else:\n",
        "            stripe_index = np.random.choice([x for x in range(img_array.shape[1]-stripe_width) if x not in range(prev_stripe_index, prev_stripe_index+stripe_width)])  # choose a random column index for subsequent stripes that does not overlap with the previous stripe\n",
        "        img_array[:, stripe_index:stripe_index+stripe_width, :] = stripe_noise  # add the noise to the current column range\n",
        "        prev_stripe_index = stripe_index  # store the current stripe index for use in the next iteration\n",
        "\n",
        "    # Convert the numpy array back to an image and save it to the output folder\n",
        "    noisy_img = Image.fromarray(np.uint8(img_array))\n",
        "    noisy_img_path = os.path.join(output_folder, file_name)\n",
        "    noisy_img.save(noisy_img_path)\n",
        "\n",
        "  \"\"\""
      ]
    },
    {
      "cell_type": "code",
      "source": [
        "print('Approach 2')\n",
        "\"\"\"\n",
        "import os\n",
        "import random\n",
        "from PIL import Image\n",
        "\n",
        "# Set the paths to the input and output folders\n",
        "input_folder = \"noise1/test1/\"\n",
        "output_folder = \"noise1/noise1_introduced/\"\n",
        "\n",
        "# Set the percentages of images to apply 1, 2, and more than 2 stripes\n",
        "one_stripe_percent = 0.6\n",
        "two_stripes_percent = 0.3\n",
        "more_stripes_percent = 0.1\n",
        "\n",
        "# Load the images from the input folder\n",
        "files = os.listdir(input_folder)\n",
        "\n",
        "# Loop through the images and add stripe noise\n",
        "for file in files:\n",
        "    # Load the image\n",
        "    image = Image.open(os.path.join(input_folder, file))\n",
        "    width, height = image.size\n",
        "    \n",
        "    # Determine the number of stripes to add\n",
        "    rand_num = random.random()\n",
        "    if rand_num < one_stripe_percent:\n",
        "        num_stripes = 1\n",
        "    elif rand_num < one_stripe_percent + two_stripes_percent:\n",
        "        num_stripes = 2\n",
        "    else:\n",
        "        num_stripes = random.randint(3, 5)\n",
        "    \n",
        "    # Add stripes to the image\n",
        "    for i in range(num_stripes):\n",
        "        # Choose a random row or column\n",
        "        is_row = random.choice([True, False])\n",
        "        index = random.randint(0, height-1) if is_row else random.randint(0, width-1)\n",
        "        \n",
        "        # Add stripe noise to the row or column\n",
        "        if is_row:\n",
        "            for x in range(width):\n",
        "                r, g, b = image.getpixel((x, index))\n",
        "                noise = int(255 * random.random())\n",
        "                image.putpixel((x, index), (r+noise, g+noise, b+noise))\n",
        "        else:\n",
        "            for y in range(height):\n",
        "                r, g, b = image.getpixel((index, y))\n",
        "                noise = int(255 * random.random())\n",
        "                image.putpixel((index, y), (r+noise, g+noise, b+noise))\n",
        "    \n",
        "    # Save the modified image to the output folder\n",
        "    image.save(os.path.join(output_folder, file))\n",
        "    \"\"\""
      ],
      "metadata": {
        "colab": {
          "base_uri": "https://localhost:8080/",
          "height": 127
        },
        "id": "9YyfUrbMbTZw",
        "outputId": "d3ab10a1-a63c-456d-be80-1eaf7948bf47"
      },
      "execution_count": 3,
      "outputs": [
        {
          "output_type": "stream",
          "name": "stdout",
          "text": [
            "Approach 2\n"
          ]
        },
        {
          "output_type": "execute_result",
          "data": {
            "text/plain": [
              "'\\nimport os\\nimport random\\nfrom PIL import Image\\n\\n# Set the paths to the input and output folders\\ninput_folder = \"noise1/test1/\"\\noutput_folder = \"noise1/noise1_introduced/\"\\n\\n# Set the percentages of images to apply 1, 2, and more than 2 stripes\\none_stripe_percent = 0.6\\ntwo_stripes_percent = 0.3\\nmore_stripes_percent = 0.1\\n\\n# Load the images from the input folder\\nfiles = os.listdir(input_folder)\\n\\n# Loop through the images and add stripe noise\\nfor file in files:\\n    # Load the image\\n    image = Image.open(os.path.join(input_folder, file))\\n    width, height = image.size\\n    \\n    # Determine the number of stripes to add\\n    rand_num = random.random()\\n    if rand_num < one_stripe_percent:\\n        num_stripes = 1\\n    elif rand_num < one_stripe_percent + two_stripes_percent:\\n        num_stripes = 2\\n    else:\\n        num_stripes = random.randint(3, 5)\\n    \\n    # Add stripes to the image\\n    for i in range(num_stripes):\\n        # Choose a random row or column\\n        is_row = random.choice([True, False])\\n        index = random.randint(0, height-1) if is_row else random.randint(0, width-1)\\n        \\n        # Add stripe noise to the row or column\\n        if is_row:\\n            for x in range(width):\\n                r, g, b = image.getpixel((x, index))\\n                noise = int(255 * random.random())\\n                image.putpixel((x, index), (r+noise, g+noise, b+noise))\\n        else:\\n            for y in range(height):\\n                r, g, b = image.getpixel((index, y))\\n                noise = int(255 * random.random())\\n                image.putpixel((index, y), (r+noise, g+noise, b+noise))\\n    \\n    # Save the modified image to the output folder\\n    image.save(os.path.join(output_folder, file))\\n    '"
            ],
            "application/vnd.google.colaboratory.intrinsic+json": {
              "type": "string"
            }
          },
          "metadata": {},
          "execution_count": 3
        }
      ]
    },
    {
      "cell_type": "code",
      "source": [],
      "metadata": {
        "id": "709HYdNUbe8S"
      },
      "execution_count": null,
      "outputs": []
    }
  ]
}